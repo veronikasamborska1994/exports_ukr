{
 "cells": [
  {
   "cell_type": "code",
   "execution_count": 148,
   "metadata": {},
   "outputs": [],
   "source": [
    "import json, urllib\n",
    "import chart_studio\n",
    "from chart_studio import plotly as py\n",
    "import pandas as pd\n",
    "import numpy as np\n",
    "chart_studio.tools.set_credentials_file(username='vsamborska', api_key='UjcZadqiVsQOAfq9P8qd')"
   ]
  },
  {
   "cell_type": "code",
   "execution_count": 149,
   "metadata": {},
   "outputs": [],
   "source": [
    "# Organize data and find 10 biggest combined exports from Russia + Ukraine\n",
    "sunflower_oil_export = pd.read_csv('/Users/veronikasamborska/Desktop/exports_ukr/ukraine-russia-food.csv')\n",
    "country = sunflower_oil_export['Entity']\n",
    "year = sunflower_oil_export['Year']\n",
    "russia_export = sunflower_oil_export['Sunflower oil imports from Russia']\n",
    "ua_export = sunflower_oil_export['Sunflower oil imports from Ukraine']\n",
    "\n"
   ]
  },
  {
   "cell_type": "code",
   "execution_count": 150,
   "metadata": {},
   "outputs": [],
   "source": [
    "year_2019 = np.where(year==2019)[0]\n",
    "all_countries = country[year_2019]\n",
    "exports_from_ru = russia_export[year_2019]\n",
    "exports_from_ua = ua_export[year_2019]\n",
    "ind_to_exlude = np.isnan(np.asarray(exports_from_ru)) | np.isnan(np.asarray(exports_from_ua))\n",
    "exports_from_ru = exports_from_ru[~ind_to_exlude]\n",
    "all_countries = all_countries[~ind_to_exlude]\n",
    "exports_from_ua = exports_from_ua[~ind_to_exlude]\n",
    "sums = exports_from_ua+exports_from_ru\n",
    "ind_largest =np.argsort(sums)\n",
    "exports_from_ua = np.asarray(exports_from_ua)[np.asarray(ind_largest[-10:])]\n",
    "exports_from_ru = np.asarray(exports_from_ru)[np.asarray(ind_largest[-10:])]\n",
    "all_countries = np.asarray(all_countries)[np.asarray(ind_largest[-10:])]\n",
    "csv_new = np.asarray([all_countries,exports_from_ua,exports_from_ru]).T\n",
    "\n",
    "pd.DataFrame(data=csv_new, columns=['country', 'ukr', 'ru']).to_csv('/Users/veronikasamborska/Desktop/exports_ukr/exports.csv')"
   ]
  },
  {
   "cell_type": "code",
   "execution_count": 165,
   "metadata": {
    "scrolled": true
   },
   "outputs": [],
   "source": [
    "ua_exp = pd.read_csv('/Users/veronikasamborska/Desktop/exports_ukr/ua_export.csv')\n",
    "\n",
    "data_trace = dict(\n",
    "    type='sankey',\n",
    "    domain = dict(\n",
    "      x =  [0,1],\n",
    "      y =  [0,1]\n",
    "    ),\n",
    "    orientation = \"h\",\n",
    "    valueformat = \".0f\",\n",
    "    node = dict(\n",
    "      pad = 10,\n",
    "      thickness = 30,\n",
    "      line = dict(\n",
    "        color = \"black\",\n",
    "        width = 0\n",
    "      ),\n",
    "      label =  ua_exp['Node, Label'],\n",
    "      color = ua_exp['Color'].dropna(axis=0, how='any')\n",
    "    ),\n",
    "    link = dict(\n",
    "      source = ua_exp['Source'].dropna(axis=0, how='any'),\n",
    "      target = ua_exp['Target'].dropna(axis=0, how='any'),\n",
    "      value = ua_exp['Value'].dropna(axis=0, how='any'),\n",
    "      color = ua_exp['Link Color'].dropna(axis=0, how='any'),\n",
    "  )\n",
    ")\n",
    "\n",
    "layout =  dict(\n",
    "    title = \"Exports of Sunflower Oil from Ukraine and Russia\",\n",
    "    height = 772,\n",
    "    font = dict(\n",
    "      size = 10\n",
    "    ),    \n",
    ")\n",
    "\n"
   ]
  },
  {
   "cell_type": "code",
   "execution_count": 166,
   "metadata": {},
   "outputs": [
    {
     "data": {
      "text/html": [
       "\n",
       "        <iframe\n",
       "            width=\"100%\"\n",
       "            height=\"772px\"\n",
       "            src=\"https://plotly.com/~vsamborska/53.embed\"\n",
       "            frameborder=\"0\"\n",
       "            allowfullscreen\n",
       "        ></iframe>\n",
       "        "
      ],
      "text/plain": [
       "<IPython.lib.display.IFrame at 0x7fe3ace83ad0>"
      ]
     },
     "execution_count": 166,
     "metadata": {},
     "output_type": "execute_result"
    }
   ],
   "source": [
    "fig = dict(data=[data_trace], layout=layout)\n",
    "py.iplot(fig)"
   ]
  },
  {
   "cell_type": "code",
   "execution_count": null,
   "metadata": {},
   "outputs": [],
   "source": []
  }
 ],
 "metadata": {
  "kernelspec": {
   "display_name": "Python 3",
   "language": "python",
   "name": "python3"
  },
  "language_info": {
   "codemirror_mode": {
    "name": "ipython",
    "version": 3
   },
   "file_extension": ".py",
   "mimetype": "text/x-python",
   "name": "python",
   "nbconvert_exporter": "python",
   "pygments_lexer": "ipython3",
   "version": "3.7.6"
  }
 },
 "nbformat": 4,
 "nbformat_minor": 4
}
